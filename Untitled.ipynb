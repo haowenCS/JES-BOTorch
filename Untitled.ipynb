{
 "cells": [
  {
   "cell_type": "code",
   "execution_count": 64,
   "metadata": {},
   "outputs": [],
   "source": [
    "import torch\n",
    "from torch import Tensor\n",
    "from botorch.models.gp_regression import SingleTaskGP, FixedNoiseGP\n",
    "import matplotlib.pyplot as plt\n",
    "\n",
    "def d(X):\n",
    "    return X.detach().numpy().flatten()"
   ]
  },
  {
   "cell_type": "code",
   "execution_count": 70,
   "metadata": {},
   "outputs": [
    {
     "data": {
      "text/plain": [
       "(OrderedDict([('likelihood.noise_covar.raw_noise', tensor([2.0000])),\n",
       "              ('likelihood.noise_covar.noise_prior.concentration',\n",
       "               tensor(1.1000)),\n",
       "              ('likelihood.noise_covar.noise_prior.rate', tensor(0.0500)),\n",
       "              ('likelihood.noise_covar.raw_noise_constraint.lower_bound',\n",
       "               tensor(1.0000e-04)),\n",
       "              ('likelihood.noise_covar.raw_noise_constraint.upper_bound',\n",
       "               tensor(inf)),\n",
       "              ('mean_module.constant', tensor([0.])),\n",
       "              ('covar_module.raw_outputscale', tensor(0.)),\n",
       "              ('covar_module.base_kernel.raw_lengthscale', tensor([[0.]])),\n",
       "              ('covar_module.base_kernel.lengthscale_prior.concentration',\n",
       "               tensor(3.)),\n",
       "              ('covar_module.base_kernel.lengthscale_prior.rate', tensor(6.)),\n",
       "              ('covar_module.base_kernel.raw_lengthscale_constraint.lower_bound',\n",
       "               tensor(0.)),\n",
       "              ('covar_module.base_kernel.raw_lengthscale_constraint.upper_bound',\n",
       "               tensor(inf)),\n",
       "              ('covar_module.outputscale_prior.concentration', tensor(2.)),\n",
       "              ('covar_module.outputscale_prior.rate', tensor(0.1500)),\n",
       "              ('covar_module.raw_outputscale_constraint.lower_bound',\n",
       "               tensor(0.)),\n",
       "              ('covar_module.raw_outputscale_constraint.upper_bound',\n",
       "               tensor(inf))]),\n",
       " OrderedDict([('mean_module.constant', tensor([0.])),\n",
       "              ('covar_module.raw_outputscale', tensor(0.)),\n",
       "              ('covar_module.base_kernel.raw_lengthscale', tensor([[0.]])),\n",
       "              ('covar_module.base_kernel.lengthscale_prior.concentration',\n",
       "               tensor(3.)),\n",
       "              ('covar_module.base_kernel.lengthscale_prior.rate', tensor(6.)),\n",
       "              ('covar_module.base_kernel.raw_lengthscale_constraint.lower_bound',\n",
       "               tensor(0.)),\n",
       "              ('covar_module.base_kernel.raw_lengthscale_constraint.upper_bound',\n",
       "               tensor(inf)),\n",
       "              ('covar_module.outputscale_prior.concentration', tensor(2.)),\n",
       "              ('covar_module.outputscale_prior.rate', tensor(0.1500)),\n",
       "              ('covar_module.raw_outputscale_constraint.lower_bound',\n",
       "               tensor(0.)),\n",
       "              ('covar_module.raw_outputscale_constraint.upper_bound',\n",
       "               tensor(inf))]))"
      ]
     },
     "execution_count": 70,
     "metadata": {},
     "output_type": "execute_result"
    }
   ],
   "source": [
    "train_X = torch.rand(5, 1)\n",
    "train_Y = torch.sin(train_X).sum(dim=1, keepdim=True)\n",
    "\n",
    "gp = SingleTaskGP(train_X, train_Y)\n",
    "fix_gp = FixedNoiseGP(train_X, train_Y, train_Yvar=1e-4 * torch.ones_like(train_Y))\n",
    "gp.state_dict(), fix_gp.state_dict()\n",
    "   "
   ]
  },
  {
   "cell_type": "code",
   "execution_count": 3,
   "metadata": {},
   "outputs": [
    {
     "data": {
      "image/png": "[encoded data removed]",
      "text/plain": [
       "<Figure size 640x480 with 1 Axes>"
      ]
     },
     "metadata": {},
     "output_type": "display_data"
    }
   ],
   "source": [
    "X_plot = torch.linspace(0, 1, 101)\n",
    "posterior = gp.posterior(X_plot)\n",
    "mean, variance = posterior.mean, posterior.variance\n",
    "\n",
    "plt.plot(d(X_plot), d(mean), color='blue')\n",
    "plt.scatter(d(train_X), d(train_Y), c='k', s=50)\n",
    "plt.fill_between(d(X_plot), d(mean) + 2 * d(torch.sqrt(variance)), d(mean) - 2 * d(torch.sqrt(variance)), color='blue', alpha=0.15)\n",
    "plt.show()\n"
   ]
  },
  {
   "cell_type": "code",
   "execution_count": 4,
   "metadata": {},
   "outputs": [],
   "source": [
    "\n",
    "batch_X = train_X.repeat(5, 1, 1)\n",
    "batch_Y = train_X.repeat(5, 1, 1)\n",
    "\n",
    "batch_gp = SingleTaskGP(batch_X, batch_Y)\n",
    "batch_gp.condition_on_observations\n",
    "\n",
    "condition_points = torch.linspace(0.1, 0.9, 5).unsqueeze(-1).unsqueeze(-1)\n",
    "condition_values = torch.sin(condition_points).sum(dim=1, keepdim=True)\n",
    "\n",
    "batch_gp.posterior(batch_X)\n",
    "\n",
    "# TODO ta bort noise!\n",
    "\n",
    "# Gör om till FixedNoiseGP och se till att den nya alltid är sist\n",
    "cond_batch_gp = batch_gp.condition_on_observations(condition_points, condition_values, noise=torch.ones_like(condition_points) * 1e-6)"
   ]
  },
  {
   "cell_type": "code",
   "execution_count": 5,
   "metadata": {},
   "outputs": [
    {
     "name": "stderr",
     "output_type": "stream",
     "text": [
      "/home/hvarfner/anaconda3/lib/python3.8/site-packages/gpytorch/distributions/multivariate_normal.py:259: NumericalWarning: Negative variance values detected. This is likely due to numerical instabilities. Rounding negative variances up to 1e-06.\n",
      "  warnings.warn(\n"
     ]
    },
    {
     "data": {
      "text/plain": [
       "tensor([[[2.8864e-01],\n",
       "         [1.0120e-01],\n",
       "         [2.6830e-01],\n",
       "         [2.8858e-01],\n",
       "         [9.1498e-02],\n",
       "         [1.1325e-06]],\n",
       "\n",
       "        [[2.5194e-01],\n",
       "         [9.8191e-03],\n",
       "         [2.2007e-01],\n",
       "         [2.5184e-01],\n",
       "         [5.6669e-03],\n",
       "         [1.0133e-06]],\n",
       "\n",
       "        [[1.6280e-01],\n",
       "         [3.2217e-02],\n",
       "         [1.1992e-01],\n",
       "         [1.6266e-01],\n",
       "         [4.1403e-02],\n",
       "         [1.0000e-06]],\n",
       "\n",
       "        [[4.0289e-02],\n",
       "         [1.6188e-01],\n",
       "         [1.4003e-02],\n",
       "         [4.0189e-02],\n",
       "         [1.7576e-01],\n",
       "         [1.0729e-06]],\n",
       "\n",
       "        [[6.6829e-03],\n",
       "         [2.7338e-01],\n",
       "         [2.6096e-02],\n",
       "         [6.7247e-03],\n",
       "         [2.8392e-01],\n",
       "         [1.0729e-06]]], grad_fn=<UnsqueezeBackward0>)"
      ]
     },
     "execution_count": 5,
     "metadata": {},
     "output_type": "execute_result"
    }
   ],
   "source": [
    "posterior = cond_batch_gp.posterior(cond_batch_gp.train_inputs[0])\n",
    "posterior.variance"
   ]
  },
  {
   "cell_type": "code",
   "execution_count": 6,
   "metadata": {},
   "outputs": [
    {
     "data": {
      "text/plain": [
       "tensor([[[0.0998]],\n",
       "\n",
       "        [[0.2955]],\n",
       "\n",
       "        [[0.4794]],\n",
       "\n",
       "        [[0.6442]],\n",
       "\n",
       "        [[0.7833]]])"
      ]
     },
     "execution_count": 6,
     "metadata": {},
     "output_type": "execute_result"
    }
   ],
   "source": [
    "condition_values"
   ]
  },
  {
   "cell_type": "code",
   "execution_count": 7,
   "metadata": {},
   "outputs": [
    {
     "data": {
      "text/plain": [
       "tensor([[[0.1942],\n",
       "         [0.2279],\n",
       "         [0.2641],\n",
       "         [0.3015],\n",
       "         [0.3384],\n",
       "         [0.3725],\n",
       "         [0.4011],\n",
       "         [0.4210],\n",
       "         [0.4289],\n",
       "         [0.4230],\n",
       "         [0.4041]],\n",
       "\n",
       "        [[0.1942],\n",
       "         [0.2279],\n",
       "         [0.2641],\n",
       "         [0.3015],\n",
       "         [0.3384],\n",
       "         [0.3725],\n",
       "         [0.4011],\n",
       "         [0.4210],\n",
       "         [0.4289],\n",
       "         [0.4230],\n",
       "         [0.4041]],\n",
       "\n",
       "        [[0.1942],\n",
       "         [0.2279],\n",
       "         [0.2641],\n",
       "         [0.3015],\n",
       "         [0.3384],\n",
       "         [0.3725],\n",
       "         [0.4011],\n",
       "         [0.4210],\n",
       "         [0.4289],\n",
       "         [0.4230],\n",
       "         [0.4041]],\n",
       "\n",
       "        [[0.1942],\n",
       "         [0.2279],\n",
       "         [0.2641],\n",
       "         [0.3015],\n",
       "         [0.3384],\n",
       "         [0.3725],\n",
       "         [0.4011],\n",
       "         [0.4210],\n",
       "         [0.4289],\n",
       "         [0.4230],\n",
       "         [0.4041]],\n",
       "\n",
       "        [[0.1942],\n",
       "         [0.2279],\n",
       "         [0.2641],\n",
       "         [0.3015],\n",
       "         [0.3384],\n",
       "         [0.3725],\n",
       "         [0.4011],\n",
       "         [0.4210],\n",
       "         [0.4289],\n",
       "         [0.4230],\n",
       "         [0.4041]]], grad_fn=<UnsqueezeBackward0>)"
      ]
     },
     "execution_count": 7,
     "metadata": {},
     "output_type": "execute_result"
    }
   ],
   "source": [
    "X_plot = torch.linspace(0, 1, 11)\n",
    "posterior = batch_gp.posterior(X_plot)\n",
    "mean, variance = posterior.mean, posterior.variance\n",
    "mean.shape\n",
    "mean"
   ]
  },
  {
   "cell_type": "code",
   "execution_count": 17,
   "metadata": {},
   "outputs": [
    {
     "data": {
      "text/plain": [
       "(OrderedDict([('likelihood.noise_covar.raw_noise', tensor([2.0000])),\n",
       "              ('likelihood.noise_covar.noise_prior.concentration',\n",
       "               tensor(1.1000)),\n",
       "              ('likelihood.noise_covar.noise_prior.rate', tensor(0.0500)),\n",
       "              ('likelihood.noise_covar.raw_noise_constraint.lower_bound',\n",
       "               tensor(1.0000e-04)),\n",
       "              ('likelihood.noise_covar.raw_noise_constraint.upper_bound',\n",
       "               tensor(inf)),\n",
       "              ('mean_module.constant', tensor([0.])),\n",
       "              ('covar_module.raw_outputscale', tensor(0.)),\n",
       "              ('covar_module.base_kernel.raw_lengthscale', tensor([[0.]])),\n",
       "              ('covar_module.base_kernel.lengthscale_prior.concentration',\n",
       "               tensor(3.)),\n",
       "              ('covar_module.base_kernel.lengthscale_prior.rate', tensor(6.)),\n",
       "              ('covar_module.base_kernel.raw_lengthscale_constraint.lower_bound',\n",
       "               tensor(0.)),\n",
       "              ('covar_module.base_kernel.raw_lengthscale_constraint.upper_bound',\n",
       "               tensor(inf)),\n",
       "              ('covar_module.outputscale_prior.concentration', tensor(2.)),\n",
       "              ('covar_module.outputscale_prior.rate', tensor(0.1500)),\n",
       "              ('covar_module.raw_outputscale_constraint.lower_bound',\n",
       "               tensor(0.)),\n",
       "              ('covar_module.raw_outputscale_constraint.upper_bound',\n",
       "               tensor(inf))]),\n",
       " OrderedDict([('likelihood.noise_covar.raw_noise',\n",
       "               tensor([[2.0000],\n",
       "                       [2.0000],\n",
       "                       [2.0000],\n",
       "                       [2.0000],\n",
       "                       [2.0000]])),\n",
       "              ('likelihood.noise_covar.noise_prior.concentration',\n",
       "               tensor(1.1000)),\n",
       "              ('likelihood.noise_covar.noise_prior.rate', tensor(0.0500)),\n",
       "              ('likelihood.noise_covar.raw_noise_constraint.lower_bound',\n",
       "               tensor(1.0000e-04)),\n",
       "              ('likelihood.noise_covar.raw_noise_constraint.upper_bound',\n",
       "               tensor(inf)),\n",
       "              ('mean_module.constant',\n",
       "               tensor([[0.],\n",
       "                       [0.],\n",
       "                       [0.],\n",
       "                       [0.],\n",
       "                       [0.]])),\n",
       "              ('covar_module.raw_outputscale', tensor([0., 0., 0., 0., 0.])),\n",
       "              ('covar_module.base_kernel.raw_lengthscale',\n",
       "               tensor([[[0.]],\n",
       "               \n",
       "                       [[0.]],\n",
       "               \n",
       "                       [[0.]],\n",
       "               \n",
       "                       [[0.]],\n",
       "               \n",
       "                       [[0.]]])),\n",
       "              ('covar_module.base_kernel.lengthscale_prior.concentration',\n",
       "               tensor(3.)),\n",
       "              ('covar_module.base_kernel.lengthscale_prior.rate', tensor(6.)),\n",
       "              ('covar_module.base_kernel.raw_lengthscale_constraint.lower_bound',\n",
       "               tensor(0.)),\n",
       "              ('covar_module.base_kernel.raw_lengthscale_constraint.upper_bound',\n",
       "               tensor(inf)),\n",
       "              ('covar_module.outputscale_prior.concentration', tensor(2.)),\n",
       "              ('covar_module.outputscale_prior.rate', tensor(0.1500)),\n",
       "              ('covar_module.raw_outputscale_constraint.lower_bound',\n",
       "               tensor(0.)),\n",
       "              ('covar_module.raw_outputscale_constraint.upper_bound',\n",
       "               tensor(inf))]))"
      ]
     },
     "execution_count": 17,
     "metadata": {},
     "output_type": "execute_result"
    }
   ],
   "source": [
    "gp.state_dict(), batch_gp.state_dict()"
   ]
  },
  {
   "cell_type": "code",
   "execution_count": 62,
   "metadata": {},
   "outputs": [
    {
     "name": "stdout",
     "output_type": "stream",
     "text": [
      "likelihood.noise_covar.raw_noise tensor([[2.0000],\n",
      "        [2.0000],\n",
      "        [2.0000],\n",
      "        [2.0000],\n",
      "        [2.0000]])\n",
      "mean_module.constant tensor([[0.],\n",
      "        [0.],\n",
      "        [0.],\n",
      "        [0.],\n",
      "        [0.]])\n",
      "covar_module.raw_outputscale tensor([0., 0., 0., 0., 0.])\n",
      "covar_module.base_kernel.raw_lengthscale tensor([[[0.]],\n",
      "\n",
      "        [[0.]],\n",
      "\n",
      "        [[0.]],\n",
      "\n",
      "        [[0.]],\n",
      "\n",
      "        [[0.]]])\n"
     ]
    },
    {
     "data": {
      "text/plain": [
       "<All keys matched successfully>"
      ]
     },
     "execution_count": 62,
     "metadata": {},
     "output_type": "execute_result"
    }
   ],
   "source": [
    "from copy import copy\n",
    "\n",
    "def reshape_state_dict(single_obj_gp, num_opt_samples):\n",
    "    updates = ['likelihood.noise_covar.raw_noise', \n",
    "               'mean_module.constant',\n",
    "               'covar_module.raw_outputscale', \n",
    "               'covar_module.base_kernel.raw_lengthscale']\n",
    "    single_state_dict = single_obj_gp.state_dict()\n",
    "    multi_state_dict = copy(single_obj_gp.state_dict())\n",
    "    for update_name in updates:\n",
    "        old_param_value = single_state_dict.get(update_name)\n",
    "        new_param_value = old_param_value.repeat(torch.Size((num_opt_samples, ) + tuple(1 for i in range(old_param_value.ndim))))\n",
    "        print(update_name, new_param_value)\n",
    "        multi_state_dict[update_name] = new_param_value\n",
    "    return multi_state_dict\n",
    "\n",
    "batch_gp.load_state_dict(reshape_state_dict(gp, 5))"
   ]
  },
  {
   "cell_type": "code",
   "execution_count": 39,
   "metadata": {},
   "outputs": [
    {
     "data": {
      "text/plain": [
       "(1, 2, 3)"
      ]
     },
     "execution_count": 39,
     "metadata": {},
     "output_type": "execute_result"
    }
   ],
   "source": [
    "(1,) + (2, 3)"
   ]
  }
 ],
 "metadata": {
  "kernelspec": {
   "display_name": "Python 3",
   "language": "python",
   "name": "python3"
  },
  "language_info": {
   "codemirror_mode": {
    "name": "ipython",
    "version": 3
   },
   "file_extension": ".py",
   "mimetype": "text/x-python",
   "name": "python",
   "nbconvert_exporter": "python",
   "pygments_lexer": "ipython3",
   "version": "3.8.3"
  }
 },
 "nbformat": 4,
 "nbformat_minor": 4
}
